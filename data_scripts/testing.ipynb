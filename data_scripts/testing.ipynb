{
 "cells": [
  {
   "cell_type": "code",
   "execution_count": 1,
   "metadata": {},
   "outputs": [],
   "source": [
    "from data_helper_functions import get_mapping\n",
    "from data_helper_functions import get_JSON_dict\n",
    "from data_helper_functions import get_game_data"
   ]
  },
  {
   "cell_type": "code",
   "execution_count": 2,
   "metadata": {},
   "outputs": [],
   "source": [
    "mapping = get_mapping(\"110378429158160389\")"
   ]
  },
  {
   "cell_type": "code",
   "execution_count": 4,
   "metadata": {},
   "outputs": [],
   "source": [
    "game_data = get_game_data(\"ESPORTSTMNT03:3196037\")\n",
    "participants = game_data[0][\"participants\"]"
   ]
  },
  {
   "cell_type": "code",
   "execution_count": 5,
   "metadata": {},
   "outputs": [
    {
     "data": {
      "text/plain": [
       "dict_keys(['keystoneID', 'hashedIP', 'teamID', 'participantID', 'championName', 'accountID', 'abGroup', 'perks', 'summonerName', 'summonerLevel'])"
      ]
     },
     "execution_count": 5,
     "metadata": {},
     "output_type": "execute_result"
    }
   ],
   "source": [
    "participants[0].keys()"
   ]
  },
  {
   "cell_type": "code",
   "execution_count": 6,
   "metadata": {},
   "outputs": [
    {
     "name": "stdout",
     "output_type": "stream",
     "text": [
      "{'keystoneID': 8437, 'hashedIP': '3VoTUXLOxMy1OmdTUitHpqfdYIc=', 'teamID': 100, 'participantID': 1, 'championName': 'Poppy', 'accountID': 2686754966209696, 'abGroup': '', 'perks': [{'perkIds': [8437, 8446, 8444, 8451, 8347, 8345, 5005, 5008, 5002], 'perkStyle': 8400, 'perkSubStyle': 8300}], 'summonerName': 'MIR Allorim', 'summonerLevel': 30}\n"
     ]
    }
   ],
   "source": [
    "print(participants[0])"
   ]
  },
  {
   "cell_type": "code",
   "execution_count": 7,
   "metadata": {},
   "outputs": [],
   "source": [
    "event_types = []\n",
    "for dictionary in game_data:\n",
    "    if dictionary[\"eventType\"] not in event_types:\n",
    "        event_types.append(dictionary[\"eventType\"])"
   ]
  },
  {
   "cell_type": "code",
   "execution_count": 8,
   "metadata": {},
   "outputs": [
    {
     "data": {
      "text/plain": [
       "['game_info',\n",
       " 'queued_epic_monster_info',\n",
       " 'queued_dragon_info',\n",
       " 'stats_update',\n",
       " 'item_purchased',\n",
       " 'skill_level_up',\n",
       " 'summoner_spell_used',\n",
       " 'ward_placed',\n",
       " 'epic_monster_kill',\n",
       " 'champion_level_up',\n",
       " 'item_destroyed',\n",
       " 'champion_kill',\n",
       " 'champion_kill_special',\n",
       " 'ward_killed',\n",
       " 'epic_monster_spawn',\n",
       " 'turret_plate_destroyed',\n",
       " 'turret_plate_gold_earned',\n",
       " 'item_undo',\n",
       " 'item_sold',\n",
       " 'building_destroyed',\n",
       " 'objective_bounty_prestart',\n",
       " 'objective_bounty_finish',\n",
       " 'game_end']"
      ]
     },
     "execution_count": 8,
     "metadata": {},
     "output_type": "execute_result"
    }
   ],
   "source": [
    "event_types"
   ]
  },
  {
   "cell_type": "code",
   "execution_count": 10,
   "metadata": {},
   "outputs": [
    {
     "name": "stdout",
     "output_type": "stream",
     "text": [
      "{'eventTime': '2023-07-22T17:40:29.535Z', 'eventType': 'stats_update', 'platformGameId': 'ESPORTSTMNT03:3196037', 'gameTime': 1502536, 'stageID': 1, 'participants': [{'ability4CooldownRemaining': 13.570556640625, 'magicPenetrationPercent': 0, 'alive': True, 'primaryAbilityResource': 363, 'spellVamp': 0, 'participantID': 1, 'lifeSteal': 0, 'primaryAbilityResourceRegen': 32, 'ability1CooldownRemaining': 0, 'XPForNextLevel': 14700, 'summonerSpell2CooldownRemaining': 142.195068359375, 'healthMax': 3523, 'magicResist': 159, 'ability3CooldownRemaining': 0, 'ability3Level': 5, 'ability2CooldownRemaining': 0, 'summonerSpell1Name': 'SummonerFlash', 'teamID': 100, 'currentGold': 1145, 'healthRegen': 45, 'ability4Level': 2, 'level': 15, 'ability1Level': 5, 'armorPenetration': 0, 'accountID': 2686754966209696, 'ability2Level': 3, 'health': 970, 'ultimateName': 'PoppyR', 'summonerSpell2Name': 'S12_SummonerTeleportUpgrade', 'cooldownReduction': 0, 'goldStats': {'assist': 567, 'killPalisade': 700, 'killNeutralMinion': 120, 'globalTeam': 300, 'killStructure': 907, 'itemSold': 75, 'ambient': 2841, 'killChampion': 600, 'killMinion': 3874, 'starting': 500, 'misc': 40}, 'magicPenetrationPercentBonus': 0, 'magicPenetration': 0, 'position': {'z': 13395, 'x': 12793}, 'primaryAbilityResourceMax': 930, 'armorPenetrationPercentBonus': 0, 'armorPenetrationPercent': 0, 'ability2Name': 'PoppyW', 'attackDamage': 122, 'ability3Name': 'PoppyE', 'championName': 'Poppy', 'ccReduction': 10, 'shutdownValue': 150, 'playerName': 'MIR Allorim', 'respawnTimer': 0, 'attackSpeed': 143, 'XP': 13622, 'ultimateCooldownRemaining': 13.570556640625, 'armor': 329, 'summonerSpell1CooldownRemaining': 14.2611083984375, 'ability1Name': 'PoppyQ', 'totalGold': 10450, 'items': [{'itemID': 3068, 'itemStacks': 41, 'itemCooldown': 0}, {'itemID': 3047, 'itemCooldown': 0}, {'itemID': 1057, 'itemCooldown': 0}, {'itemID': 3066, 'itemCooldown': 0}, {'itemID': 6662, 'itemCooldown': 0}, {'itemID': 1054, 'itemCooldown': 0}, {'itemID': 3340, 'itemStacks': 1, 'itemCooldown': 0}], 'abilityPower': 0, 'ability4Name': 'PoppyR', 'stats': [{'value': 178, 'name': 'MINIONS_KILLED'}, {'value': 6, 'name': 'NEUTRAL_MINIONS_KILLED'}, {'value': 0, 'name': 'NEUTRAL_MINIONS_KILLED_YOUR_JUNGLE'}, {'value': 6, 'name': 'NEUTRAL_MINIONS_KILLED_ENEMY_JUNGLE'}, {'value': 2, 'name': 'CHAMPIONS_KILLED'}, {'value': 0, 'name': 'NUM_DEATHS'}, {'value': 10, 'name': 'ASSISTS'}, {'value': 8437, 'name': 'PERK0'}, {'value': 903.78564453125, 'name': 'PERK0_VAR1'}, {'value': 525.3221435546875, 'name': 'PERK0_VAR2'}, {'value': 0, 'name': 'PERK0_VAR3'}, {'value': 8446, 'name': 'PERK1'}, {'value': 1701.8668212890625, 'name': 'PERK1_VAR1'}, {'value': 0, 'name': 'PERK1_VAR2'}, {'value': 0, 'name': 'PERK1_VAR3'}, {'value': 8444, 'name': 'PERK2'}, {'value': 926.988037109375, 'name': 'PERK2_VAR1'}, {'value': 0, 'name': 'PERK2_VAR2'}, {'value': 0, 'name': 'PERK2_VAR3'}, {'value': 8451, 'name': 'PERK3'}, {'value': 221.1595916748047, 'name': 'PERK3_VAR1'}, {'value': 0, 'name': 'PERK3_VAR2'}, {'value': 0, 'name': 'PERK3_VAR3'}, {'value': 8347, 'name': 'PERK4'}, {'value': 0, 'name': 'PERK4_VAR1'}, {'value': 0, 'name': 'PERK4_VAR2'}, {'value': 0, 'name': 'PERK4_VAR3'}, {'value': 8345, 'name': 'PERK5'}, {'value': 3, 'name': 'PERK5_VAR1'}, {'value': 0, 'name': 'PERK5_VAR2'}, {'value': 0, 'name': 'PERK5_VAR3'}, {'value': 10, 'name': 'WARD_PLACED'}, {'value': 3, 'name': 'WARD_KILLED'}, {'value': 25.153249740600586, 'name': 'VISION_SCORE'}, {'value': 99737.4296875, 'name': 'TOTAL_DAMAGE_DEALT'}, {'value': 76190.84375, 'name': 'PHYSICAL_DAMAGE_DEALT_PLAYER'}, {'value': 19332.482421875, 'name': 'MAGIC_DAMAGE_DEALT_PLAYER'}, {'value': 4214.1064453125, 'name': 'TRUE_DAMAGE_DEALT_PLAYER'}, {'value': 11991.734375, 'name': 'TOTAL_DAMAGE_DEALT_TO_CHAMPIONS'}, {'value': 7694.10693359375, 'name': 'PHYSICAL_DAMAGE_DEALT_TO_CHAMPIONS'}, {'value': 3545.53857421875, 'name': 'MAGIC_DAMAGE_DEALT_TO_CHAMPIONS'}, {'value': 752.108154296875, 'name': 'TRUE_DAMAGE_DEALT_TO_CHAMPIONS'}, {'value': 15406.8720703125, 'name': 'TOTAL_DAMAGE_TAKEN'}, {'value': 12068.8349609375, 'name': 'PHYSICAL_DAMAGE_TAKEN'}, {'value': 2414.108642578125, 'name': 'MAGIC_DAMAGE_TAKEN'}, {'value': 923.928466796875, 'name': 'TRUE_DAMAGE_TAKEN'}, {'value': 25780.03125, 'name': 'TOTAL_DAMAGE_SELF_MITIGATED'}, {'value': 0, 'name': 'TOTAL_DAMAGE_SHIELDED_ON_TEAMMATES'}, {'value': 2733.83349609375, 'name': 'TOTAL_DAMAGE_DEALT_TO_BUILDINGS'}, {'value': 2733.83349609375, 'name': 'TOTAL_DAMAGE_DEALT_TO_TURRETS'}, {'value': 5182.6455078125, 'name': 'TOTAL_DAMAGE_DEALT_TO_OBJECTIVES'}, {'value': 714.7724609375, 'name': 'TOTAL_TIME_CROWD_CONTROL_DEALT'}, {'value': 212.97128295898438, 'name': 'TOTAL_TIME_CROWD_CONTROL_DEALT_TO_CHAMPIONS'}, {'value': 0, 'name': 'TOTAL_HEAL_ON_TEAMMATES'}, {'value': 30.259042739868164, 'name': 'TIME_CCING_OTHERS'}, {'value': 0, 'name': 'BASIC_PINGS'}, {'value': 14, 'name': 'COMMAND_PINGS'}, {'value': 0, 'name': 'DANGER_PINGS'}, {'value': 0, 'name': 'GET_BACK_PINGS'}, {'value': 0, 'name': 'RETREAT_PINGS'}, {'value': 5, 'name': 'ON_MY_WAY_PINGS'}, {'value': 0, 'name': 'ASSIST_ME_PINGS'}, {'value': 3, 'name': 'ENEMY_MISSING_PINGS'}, {'value': 0, 'name': 'PUSH_PINGS'}, {'value': 0, 'name': 'ALL_IN_PINGS'}, {'value': 0, 'name': 'HOLD_PINGS'}, {'value': 0, 'name': 'BAIT_PINGS'}, {'value': 0, 'name': 'VISION_CLEARED_PINGS'}, {'value': 2, 'name': 'ENEMY_VISION_PINGS'}, {'value': 0, 'name': 'NEED_VISION_PINGS'}], 'goldPerSecond': 0}, {'ability4CooldownRemaining': 42.4556884765625, 'magicPenetrationPercent': 0, 'alive': True, 'primaryAbilityResource': 2, 'spellVamp': 0, 'participantID': 2, 'lifeSteal': 0, 'primaryAbilityResourceRegen': 0, 'ability1CooldownRemaining': 0, 'XPForNextLevel': 13020, 'summonerSpell2CooldownRemaining': 50.9434814453125, 'healthMax': 2762, 'magicResist': 71, 'ability3CooldownRemaining': 0, 'ability3Level': 2, 'ability2CooldownRemaining': 0, 'summonerSpell1Name': 'SummonerSmiteAvatarUtility', 'teamID': 100, 'currentGold': 1352, 'healthRegen': 26, 'ability4Level': 2, 'level': 14, 'ability1Level': 5, 'armorPenetration': 0, 'accountID': 3258895023457344, 'ability2Level': 5, 'health': 1225, 'ultimateName': 'RengarR', 'summonerSpell2Name': 'SummonerFlash', 'cooldownReduction': 0, 'goldStats': {'assist': 576, 'killPalisade': 204, 'shutdownReward': 300, 'ambient': 2841, 'misc': 490, 'globalTeam': 300, 'killNeutralMinion': 3223, 'killChampion': 1574, 'killMinion': 369, 'starting': 500, 'killStructure': 1028}, 'magicPenetrationPercentBonus': 0, 'magicPenetration': 0, 'position': {'z': 13111, 'x': 12796}, 'primaryAbilityResourceMax': 4, 'armorPenetrationPercentBonus': 0, 'armorPenetrationPercent': 0, 'ability2Name': 'RengarW', 'attackDamage': 292, 'ability3Name': 'RengarE', 'championName': 'Rengar', 'ccReduction': 6, 'shutdownValue': 400, 'playerName': 'MIR Chad', 'respawnTimer': 0, 'attackSpeed': 164, 'XP': 12176, 'ultimateCooldownRemaining': 42.4556884765625, 'armor': 125, 'stackingBuffs': [{'stacks': 1200, 'id': 3805539831}, {'stacks': 1, 'id': 1476838120}, {'stacks': 91, 'id': 3290852513}], 'summonerSpell1CooldownRemaining': 0, 'ability1Name': 'RengarQ', 'totalGold': 11406, 'items': [{'itemID': 3123, 'itemCooldown': 0}, {'itemID': 6630, 'itemCooldown': 0}, {'itemID': 3133, 'itemCooldown': 0}, {'itemID': 3047, 'itemCooldown': 0}, {'itemID': 3071, 'itemCooldown': 0}, {'itemID': 3364, 'itemStacks': 0, 'itemCooldown': 53.200927734375}], 'abilityPower': 0, 'ability4Name': 'RengarR', 'stats': [{'value': 17, 'name': 'MINIONS_KILLED'}, {'value': 114.40001678466797, 'name': 'NEUTRAL_MINIONS_KILLED'}, {'value': 67.50000762939453, 'name': 'NEUTRAL_MINIONS_KILLED_YOUR_JUNGLE'}, {'value': 22.39999771118164, 'name': 'NEUTRAL_MINIONS_KILLED_ENEMY_JUNGLE'}, {'value': 5, 'name': 'CHAMPIONS_KILLED'}, {'value': 2, 'name': 'NUM_DEATHS'}, {'value': 10, 'name': 'ASSISTS'}, {'value': 8021, 'name': 'PERK0'}, {'value': 3788.355712890625, 'name': 'PERK0_VAR1'}, {'value': 3222.32568359375, 'name': 'PERK0_VAR2'}, {'value': 0, 'name': 'PERK0_VAR3'}, {'value': 9111, 'name': 'PERK1'}, {'value': 1090.303466796875, 'name': 'PERK1_VAR1'}, {'value': 300, 'name': 'PERK1_VAR2'}, {'value': 0, 'name': 'PERK1_VAR3'}, {'value': 9104, 'name': 'PERK2'}, {'value': 12, 'name': 'PERK2_VAR1'}, {'value': 0, 'name': 'PERK2_VAR2'}, {'value': 0, 'name': 'PERK2_VAR3'}, {'value': 8299, 'name': 'PERK3'}, {'value': 302.03985595703125, 'name': 'PERK3_VAR1'}, {'value': 0, 'name': 'PERK3_VAR2'}, {'value': 0, 'name': 'PERK3_VAR3'}, {'value': 8429, 'name': 'PERK4'}, {'value': 52.07783126831055, 'name': 'PERK4_VAR1'}, {'value': 12.00362777709961, 'name': 'PERK4_VAR2'}, {'value': 10.479999542236328, 'name': 'PERK4_VAR3'}, {'value': 8453, 'name': 'PERK5'}, {'value': 1935.398681640625, 'name': 'PERK5_VAR1'}, {'value': 40.189815521240234, 'name': 'PERK5_VAR2'}, {'value': 0, 'name': 'PERK5_VAR3'}, {'value': 4, 'name': 'WARD_PLACED'}, {'value': 6, 'name': 'WARD_KILLED'}, {'value': 28.959354400634766, 'name': 'VISION_SCORE'}, {'value': 159733.71875, 'name': 'TOTAL_DAMAGE_DEALT'}, {'value': 108308.6015625, 'name': 'PHYSICAL_DAMAGE_DEALT_PLAYER'}, {'value': 20839.076171875, 'name': 'MAGIC_DAMAGE_DEALT_PLAYER'}, {'value': 30586.056640625, 'name': 'TRUE_DAMAGE_DEALT_PLAYER'}, {'value': 12777.490234375, 'name': 'TOTAL_DAMAGE_DEALT_TO_CHAMPIONS'}, {'value': 11439.47265625, 'name': 'PHYSICAL_DAMAGE_DEALT_TO_CHAMPIONS'}, {'value': 885.5856323242188, 'name': 'MAGIC_DAMAGE_DEALT_TO_CHAMPIONS'}, {'value': 452.4313659667969, 'name': 'TRUE_DAMAGE_DEALT_TO_CHAMPIONS'}, {'value': 30460.451171875, 'name': 'TOTAL_DAMAGE_TAKEN'}, {'value': 21955.05859375, 'name': 'PHYSICAL_DAMAGE_TAKEN'}, {'value': 7751.009765625, 'name': 'MAGIC_DAMAGE_TAKEN'}, {'value': 754.3949584960938, 'name': 'TRUE_DAMAGE_TAKEN'}, {'value': 18374.634765625, 'name': 'TOTAL_DAMAGE_SELF_MITIGATED'}, {'value': 0, 'name': 'TOTAL_DAMAGE_SHIELDED_ON_TEAMMATES'}, {'value': 3198.058349609375, 'name': 'TOTAL_DAMAGE_DEALT_TO_BUILDINGS'}, {'value': 3198.058349609375, 'name': 'TOTAL_DAMAGE_DEALT_TO_TURRETS'}, {'value': 33652.12890625, 'name': 'TOTAL_DAMAGE_DEALT_TO_OBJECTIVES'}, {'value': 282.98382568359375, 'name': 'TOTAL_TIME_CROWD_CONTROL_DEALT'}, {'value': 73.23419189453125, 'name': 'TOTAL_TIME_CROWD_CONTROL_DEALT_TO_CHAMPIONS'}, {'value': 0, 'name': 'TOTAL_HEAL_ON_TEAMMATES'}, {'value': 27.80220603942871, 'name': 'TIME_CCING_OTHERS'}, {'value': 0, 'name': 'BASIC_PINGS'}, {'value': 8, 'name': 'COMMAND_PINGS'}, {'value': 0, 'name': 'DANGER_PINGS'}, {'value': 1, 'name': 'GET_BACK_PINGS'}, {'value': 0, 'name': 'RETREAT_PINGS'}, {'value': 20, 'name': 'ON_MY_WAY_PINGS'}, {'value': 0, 'name': 'ASSIST_ME_PINGS'}, {'value': 0, 'name': 'ENEMY_MISSING_PINGS'}, {'value': 0, 'name': 'PUSH_PINGS'}, {'value': 1, 'name': 'ALL_IN_PINGS'}, {'value': 0, 'name': 'HOLD_PINGS'}, {'value': 0, 'name': 'BAIT_PINGS'}, {'value': 0, 'name': 'VISION_CLEARED_PINGS'}, {'value': 0, 'name': 'ENEMY_VISION_PINGS'}, {'value': 0, 'name': 'NEED_VISION_PINGS'}], 'goldPerSecond': 0}, {'ability4CooldownRemaining': 46.9393310546875, 'magicPenetrationPercent': 0, 'alive': True, 'primaryAbilityResource': 236, 'spellVamp': 0, 'participantID': 3, 'lifeSteal': 0, 'primaryAbilityResourceRegen': 33, 'ability1CooldownRemaining': 0, 'XPForNextLevel': 13020, 'summonerSpell2CooldownRemaining': 0, 'healthMax': 1903, 'magicResist': 58, 'ability3CooldownRemaining': 0, 'ability3Level': 2, 'ability2CooldownRemaining': 6.090087890625, 'summonerSpell1Name': 'SummonerFlash', 'teamID': 100, 'currentGold': 881, 'healthRegen': 20, 'ability4Level': 2, 'level': 14, 'ability1Level': 5, 'armorPenetration': 0, 'accountID': 3164737364812928, 'ability2Level': 5, 'health': 1074, 'ultimateName': 'KaisaR', 'summonerSpell2Name': 'S12_SummonerTeleportUpgrade', 'cooldownReduction': 0, 'goldStats': {'assist': 437, 'killStructure': 840, 'itemUndo': 300, 'ambient': 2841, 'itemSold': 60, 'killChampion': 1123, 'killMinion': 4058, 'globalTeam': 300, 'starting': 500}, 'magicPenetrationPercentBonus': 0, 'magicPenetration': 18, 'position': {'z': 12831, 'x': 12103}, 'primaryAbilityResourceMax': 1128, 'armorPenetrationPercentBonus': 0, 'armorPenetrationPercent': 0, 'ability2Name': 'KaisaW', 'attackDamage': 135, 'ability3Name': 'KaisaE', 'championName': 'Kaisa', 'ccReduction': 6, 'shutdownValue': 300, 'playerName': 'MIR Sudzzi', 'respawnTimer': 0, 'attackSpeed': 206, 'XP': 12326, 'ultimateCooldownRemaining': 46.9393310546875, 'armor': 85, 'stackingBuffs': [{'stacks': 82, 'id': 3290852513}], 'summonerSpell1CooldownRemaining': 53.7841796875, 'ability1Name': 'KaisaQ', 'totalGold': 10481, 'items': [{'itemID': 3802, 'itemCooldown': 0}, {'itemID': 1026, 'itemCooldown': 0}, {'itemID': 2055, 'itemStacks': 1, 'itemCooldown': 0}, {'itemID': 3087, 'itemCooldown': 0}, {'itemID': 3115, 'itemCooldown': 0}, {'itemID': 3020, 'itemCooldown': 0}, {'itemID': 3363, 'itemCooldown': 0}], 'abilityPower': 219, 'ability4Name': 'KaisaR', 'stats': [{'value': 191, 'name': 'MINIONS_KILLED'}, {'value': 0, 'name': 'NEUTRAL_MINIONS_KILLED'}, {'value': 0, 'name': 'NEUTRAL_MINIONS_KILLED_YOUR_JUNGLE'}, {'value': 0, 'name': 'NEUTRAL_MINIONS_KILLED_ENEMY_JUNGLE'}, {'value': 4, 'name': 'CHAMPIONS_KILLED'}, {'value': 4, 'name': 'NUM_DEATHS'}, {'value': 8, 'name': 'ASSISTS'}, {'value': 9923, 'name': 'PERK0'}, {'value': 40, 'name': 'PERK0_VAR1'}, {'value': 83.33333587646484, 'name': 'PERK0_VAR2'}, {'value': 0, 'name': 'PERK0_VAR3'}, {'value': 8139, 'name': 'PERK1'}, {'value': 707.7941284179688, 'name': 'PERK1_VAR1'}, {'value': 0, 'name': 'PERK1_VAR2'}, {'value': 0, 'name': 'PERK1_VAR3'}, {'value': 8138, 'name': 'PERK2'}, {'value': 30, 'name': 'PERK2_VAR1'}, {'value': 0, 'name': 'PERK2_VAR2'}, {'value': 0, 'name': 'PERK2_VAR3'}, {'value': 8135, 'name': 'PERK3'}, {'value': 320, 'name': 'PERK3_VAR1'}, {'value': 4, 'name': 'PERK3_VAR2'}, {'value': 0, 'name': 'PERK3_VAR3'}, {'value': 8321, 'name': 'PERK4'}, {'value': 8, 'name': 'PERK4_VAR1'}, {'value': 0, 'name': 'PERK4_VAR2'}, {'value': 0, 'name': 'PERK4_VAR3'}, {'value': 8304, 'name': 'PERK5'}, {'value': 10, 'name': 'PERK5_VAR1'}, {'value': 3, 'name': 'PERK5_VAR2'}, {'value': 0, 'name': 'PERK5_VAR3'}, {'value': 6, 'name': 'WARD_PLACED'}, {'value': 2, 'name': 'WARD_KILLED'}, {'value': 14.749385833740234, 'name': 'VISION_SCORE'}, {'value': 124513.7734375, 'name': 'TOTAL_DAMAGE_DEALT'}, {'value': 60807.3046875, 'name': 'PHYSICAL_DAMAGE_DEALT_PLAYER'}, {'value': 63644.91015625, 'name': 'MAGIC_DAMAGE_DEALT_PLAYER'}, {'value': 61.826969146728516, 'name': 'TRUE_DAMAGE_DEALT_PLAYER'}, {'value': 15940.2958984375, 'name': 'TOTAL_DAMAGE_DEALT_TO_CHAMPIONS'}, {'value': 5983.49951171875, 'name': 'PHYSICAL_DAMAGE_DEALT_TO_CHAMPIONS'}, {'value': 9894.966796875, 'name': 'MAGIC_DAMAGE_DEALT_TO_CHAMPIONS'}, {'value': 61.826969146728516, 'name': 'TRUE_DAMAGE_DEALT_TO_CHAMPIONS'}, {'value': 13491.2939453125, 'name': 'TOTAL_DAMAGE_TAKEN'}, {'value': 7334.6435546875, 'name': 'PHYSICAL_DAMAGE_TAKEN'}, {'value': 4934.9658203125, 'name': 'MAGIC_DAMAGE_TAKEN'}, {'value': 1221.68701171875, 'name': 'TRUE_DAMAGE_TAKEN'}, {'value': 8282.5166015625, 'name': 'TOTAL_DAMAGE_SELF_MITIGATED'}, {'value': 0, 'name': 'TOTAL_DAMAGE_SHIELDED_ON_TEAMMATES'}, {'value': 3747.275634765625, 'name': 'TOTAL_DAMAGE_DEALT_TO_BUILDINGS'}, {'value': 3747.275634765625, 'name': 'TOTAL_DAMAGE_DEALT_TO_TURRETS'}, {'value': 8488.5146484375, 'name': 'TOTAL_DAMAGE_DEALT_TO_OBJECTIVES'}, {'value': 13.03814697265625, 'name': 'TOTAL_TIME_CROWD_CONTROL_DEALT'}, {'value': 0.7669677734375, 'name': 'TOTAL_TIME_CROWD_CONTROL_DEALT_TO_CHAMPIONS'}, {'value': 0, 'name': 'TOTAL_HEAL_ON_TEAMMATES'}, {'value': 0, 'name': 'TIME_CCING_OTHERS'}, {'value': 0, 'name': 'BASIC_PINGS'}, {'value': 8, 'name': 'COMMAND_PINGS'}, {'value': 0, 'name': 'DANGER_PINGS'}, {'value': 0, 'name': 'GET_BACK_PINGS'}, {'value': 0, 'name': 'RETREAT_PINGS'}, {'value': 1, 'name': 'ON_MY_WAY_PINGS'}, {'value': 0, 'name': 'ASSIST_ME_PINGS'}, {'value': 4, 'name': 'ENEMY_MISSING_PINGS'}, {'value': 0, 'name': 'PUSH_PINGS'}, {'value': 0, 'name': 'ALL_IN_PINGS'}, {'value': 0, 'name': 'HOLD_PINGS'}, {'value': 0, 'name': 'BAIT_PINGS'}, {'value': 0, 'name': 'VISION_CLEARED_PINGS'}, {'value': 3, 'name': 'ENEMY_VISION_PINGS'}, {'value': 0, 'name': 'NEED_VISION_PINGS'}], 'goldPerSecond': 0}, {'ability4CooldownRemaining': 77.8612060546875, 'magicPenetrationPercent': 0, 'alive': True, 'primaryAbilityResource': 864, 'spellVamp': 0, 'participantID': 4, 'lifeSteal': 5, 'primaryAbilityResourceRegen': 34, 'ability1CooldownRemaining': 1.59716796875, 'XPForNextLevel': 11440, 'summonerSpell2CooldownRemaining': 169.9407958984375, 'healthMax': 1941, 'magicResist': 47, 'ability3CooldownRemaining': 2.449462890625, 'ability3Level': 5, 'ability2CooldownRemaining': 0, 'summonerSpell1Name': 'SummonerFlash', 'teamID': 100, 'currentGold': 1953, 'healthRegen': 22, 'ability4Level': 2, 'level': 13, 'ability1Level': 1, 'armorPenetration': 0, 'accountID': 2417797530158368, 'ability2Level': 5, 'health': 793, 'ultimateName': 'XayahR', 'summonerSpell2Name': 'SummonerBoost', 'cooldownReduction': 0, 'goldStats': {'assist': 290, 'killPalisade': 379, 'killNeutralMinion': 805, 'globalTeam': 300, 'killStructure': 1111, 'itemSold': 190, 'ambient': 2841, 'killChampion': 2582, 'killMinion': 4222, 'starting': 500, 'misc': 580}, 'magicPenetrationPercentBonus': 0, 'magicPenetration': 0, 'position': {'z': 13547, 'x': 13580}, 'primaryAbilityResourceMax': 898, 'armorPenetrationPercentBonus': 0, 'armorPenetrationPercent': 0, 'ability2Name': 'XayahW', 'attackDamage': 246, 'ability3Name': 'XayahE', 'championName': 'Xayah', 'ccReduction': 6, 'shutdownValue': 700, 'playerName': 'MIR Neo', 'respawnTimer': 0, 'attackSpeed': 290, 'XP': 11075, 'ultimateCooldownRemaining': 77.8612060546875, 'armor': 83, 'stackingBuffs': [{'stacks': 5, 'id': 3231234706}, {'stacks': 5, 'id': 3875261559}], 'summonerSpell1CooldownRemaining': 293.291015625, 'ability1Name': 'XayahQ', 'totalGold': 13612, 'items': [{'itemID': 6675}, {'itemID': 6672, 'itemCooldown': 0}, {'itemID': 1055, 'itemCooldown': 0}, {'itemID': 3046, 'itemCooldown': 0}, {'itemID': 3006, 'itemCooldown': 0}, {'itemID': 3363, 'itemCooldown': 0}], 'abilityPower': 0, 'ability4Name': 'XayahR', 'stats': [{'value': 204, 'name': 'MINIONS_KILLED'}, {'value': 43.600006103515625, 'name': 'NEUTRAL_MINIONS_KILLED'}, {'value': 19.999996185302734, 'name': 'NEUTRAL_MINIONS_KILLED_YOUR_JUNGLE'}, {'value': 10.100000381469727, 'name': 'NEUTRAL_MINIONS_KILLED_ENEMY_JUNGLE'}, {'value': 10, 'name': 'CHAMPIONS_KILLED'}, {'value': 1, 'name': 'NUM_DEATHS'}, {'value': 6, 'name': 'ASSISTS'}, {'value': 8008, 'name': 'PERK0'}, {'value': 51, 'name': 'PERK0_VAR1'}, {'value': 6, 'name': 'PERK0_VAR2'}, {'value': 0, 'name': 'PERK0_VAR3'}, {'value': 8009, 'name': 'PERK1'}, {'value': 2070.367431640625, 'name': 'PERK1_VAR1'}, {'value': 0, 'name': 'PERK1_VAR2'}, {'value': 0, 'name': 'PERK1_VAR3'}, {'value': 9103, 'name': 'PERK2'}, {'value': 17, 'name': 'PERK2_VAR1'}, {'value': 20, 'name': 'PERK2_VAR2'}, {'value': 0, 'name': 'PERK2_VAR3'}, {'value': 8014, 'name': 'PERK3'}, {'value': 682, 'name': 'PERK3_VAR1'}, {'value': 0, 'name': 'PERK3_VAR2'}, {'value': 0, 'name': 'PERK3_VAR3'}, {'value': 8345, 'name': 'PERK4'}, {'value': 3, 'name': 'PERK4_VAR1'}, {'value': 0, 'name': 'PERK4_VAR2'}, {'value': 0, 'name': 'PERK4_VAR3'}, {'value': 8304, 'name': 'PERK5'}, {'value': 9, 'name': 'PERK5_VAR1'}, {'value': 0, 'name': 'PERK5_VAR2'}, {'value': 0, 'name': 'PERK5_VAR3'}, {'value': 13, 'name': 'WARD_PLACED'}, {'value': 5, 'name': 'WARD_KILLED'}, {'value': 29.675138473510742, 'name': 'VISION_SCORE'}, {'value': 210677.125, 'name': 'TOTAL_DAMAGE_DEALT'}, {'value': 208030.625, 'name': 'PHYSICAL_DAMAGE_DEALT_PLAYER'}, {'value': 200.17958068847656, 'name': 'MAGIC_DAMAGE_DEALT_PLAYER'}, {'value': 2446.13525390625, 'name': 'TRUE_DAMAGE_DEALT_PLAYER'}, {'value': 20404.59765625, 'name': 'TOTAL_DAMAGE_DEALT_TO_CHAMPIONS'}, {'value': 20036.3515625, 'name': 'PHYSICAL_DAMAGE_DEALT_TO_CHAMPIONS'}, {'value': 63.77522659301758, 'name': 'MAGIC_DAMAGE_DEALT_TO_CHAMPIONS'}, {'value': 304.4687194824219, 'name': 'TRUE_DAMAGE_DEALT_TO_CHAMPIONS'}, {'value': 12260.904296875, 'name': 'TOTAL_DAMAGE_TAKEN'}, {'value': 8205.3154296875, 'name': 'PHYSICAL_DAMAGE_TAKEN'}, {'value': 3583.7939453125, 'name': 'MAGIC_DAMAGE_TAKEN'}, {'value': 471.79998779296875, 'name': 'TRUE_DAMAGE_TAKEN'}, {'value': 5586.43603515625, 'name': 'TOTAL_DAMAGE_SELF_MITIGATED'}, {'value': 0, 'name': 'TOTAL_DAMAGE_SHIELDED_ON_TEAMMATES'}, {'value': 9355.3291015625, 'name': 'TOTAL_DAMAGE_DEALT_TO_BUILDINGS'}, {'value': 9355.3291015625, 'name': 'TOTAL_DAMAGE_DEALT_TO_TURRETS'}, {'value': 36039.25, 'name': 'TOTAL_DAMAGE_DEALT_TO_OBJECTIVES'}, {'value': 100.66156005859375, 'name': 'TOTAL_TIME_CROWD_CONTROL_DEALT'}, {'value': 39.62518310546875, 'name': 'TOTAL_TIME_CROWD_CONTROL_DEALT_TO_CHAMPIONS'}, {'value': 0, 'name': 'TOTAL_HEAL_ON_TEAMMATES'}, {'value': 19.998920440673828, 'name': 'TIME_CCING_OTHERS'}, {'value': 0, 'name': 'BASIC_PINGS'}, {'value': 1, 'name': 'COMMAND_PINGS'}, {'value': 0, 'name': 'DANGER_PINGS'}, {'value': 2, 'name': 'GET_BACK_PINGS'}, {'value': 0, 'name': 'RETREAT_PINGS'}, {'value': 6, 'name': 'ON_MY_WAY_PINGS'}, {'value': 4, 'name': 'ASSIST_ME_PINGS'}, {'value': 9, 'name': 'ENEMY_MISSING_PINGS'}, {'value': 0, 'name': 'PUSH_PINGS'}, {'value': 0, 'name': 'ALL_IN_PINGS'}, {'value': 0, 'name': 'HOLD_PINGS'}, {'value': 1, 'name': 'BAIT_PINGS'}, {'value': 0, 'name': 'VISION_CLEARED_PINGS'}, {'value': 0, 'name': 'ENEMY_VISION_PINGS'}, {'value': 0, 'name': 'NEED_VISION_PINGS'}], 'goldPerSecond': 0}, {'ability4CooldownRemaining': 42.5843505859375, 'magicPenetrationPercent': 0, 'alive': True, 'primaryAbilityResource': 1224, 'spellVamp': 0, 'participantID': 5, 'lifeSteal': 0, 'primaryAbilityResourceRegen': 307, 'ability1CooldownRemaining': 0, 'XPForNextLevel': 11440, 'summonerSpell2CooldownRemaining': 0, 'healthMax': 2325, 'magicResist': 47, 'ability3CooldownRemaining': 0, 'ability3Level': 5, 'ability2CooldownRemaining': 2.6883544921875, 'summonerSpell1Name': 'SummonerHeal', 'teamID': 100, 'currentGold': 751, 'healthRegen': 87, 'ability4Level': 2, 'level': 13, 'ability1Level': 5, 'armorPenetration': 0, 'accountID': 2382278297249056, 'ability2Level': 1, 'health': 1688, 'ultimateName': 'ChronoShift', 'summonerSpell2Name': 'SummonerFlash', 'cooldownReduction': 0, 'goldStats': {'assist': 1076, 'killPalisade': 291, 'killChampion': 140, 'killStructure': 1111, 'starting': 500, 'itemSold': 5, 'globalTeam': 300, 'killMinion': 20, 'supportItem': 861, 'ambient': 3221, 'misc': 185}, 'magicPenetrationPercentBonus': 0, 'magicPenetration': 0, 'position': {'z': 13499, 'x': 13770}, 'primaryAbilityResourceMax': 1369, 'armorPenetrationPercentBonus': 0, 'armorPenetrationPercent': 0, 'ability2Name': 'ZileanW', 'attackDamage': 84, 'ability3Name': 'TimeWarp', 'championName': 'Zilean', 'ccReduction': 6, 'shutdownValue': 0, 'playerName': 'MIR Dardoch', 'respawnTimer': 0, 'attackSpeed': 123, 'XP': 10309, 'ultimateCooldownRemaining': 42.5843505859375, 'armor': 91, 'stackingBuffs': [{'stacks': 294, 'id': 1952306890}], 'summonerSpell1CooldownRemaining': 158.56298828125, 'ability1Name': 'ZileanQ', 'totalGold': 7706, 'items': [{'itemID': 2065, 'itemCooldown': 34.2877197265625}, {'itemID': 3860, 'itemStacks': 2, 'itemCooldown': 0}, {'itemID': 3158, 'itemCooldown': 0}, {'itemID': 1052, 'itemCooldown': 0}, {'itemID': 3107, 'itemCooldown': 0}, {'itemID': 3364, 'itemStacks': 2, 'itemCooldown': 0}], 'abilityPower': 108, 'ability4Name': 'ChronoShift', 'stats': [{'value': 31, 'name': 'MINIONS_KILLED'}, {'value': 0, 'name': 'NEUTRAL_MINIONS_KILLED'}, {'value': 0, 'name': 'NEUTRAL_MINIONS_KILLED_YOUR_JUNGLE'}, {'value': 0, 'name': 'NEUTRAL_MINIONS_KILLED_ENEMY_JUNGLE'}, {'value': 1, 'name': 'CHAMPIONS_KILLED'}, {'value': 0, 'name': 'NUM_DEATHS'}, {'value': 16, 'name': 'ASSISTS'}, {'value': 8214, 'name': 'PERK0'}, {'value': 747.880126953125, 'name': 'PERK0_VAR1'}, {'value': 634.353271484375, 'name': 'PERK0_VAR2'}, {'value': 0, 'name': 'PERK0_VAR3'}, {'value': 8226, 'name': 'PERK1'}, {'value': 250, 'name': 'PERK1_VAR1'}, {'value': 323.91278076171875, 'name': 'PERK1_VAR2'}, {'value': 0, 'name': 'PERK1_VAR3'}, {'value': 8210, 'name': 'PERK2'}, {'value': 16.117650985717773, 'name': 'PERK2_VAR1'}, {'value': 0, 'name': 'PERK2_VAR2'}, {'value': 0, 'name': 'PERK2_VAR3'}, {'value': 8236, 'name': 'PERK3'}, {'value': 24, 'name': 'PERK3_VAR1'}, {'value': 0, 'name': 'PERK3_VAR2'}, {'value': 0, 'name': 'PERK3_VAR3'}, {'value': 8345, 'name': 'PERK4'}, {'value': 3, 'name': 'PERK4_VAR1'}, {'value': 0, 'name': 'PERK4_VAR2'}, {'value': 0, 'name': 'PERK4_VAR3'}, {'value': 8347, 'name': 'PERK5'}, {'value': 0, 'name': 'PERK5_VAR1'}, {'value': 0, 'name': 'PERK5_VAR2'}, {'value': 0, 'name': 'PERK5_VAR3'}, {'value': 31, 'name': 'WARD_PLACED'}, {'value': 6, 'name': 'WARD_KILLED'}, {'value': 69.25038146972656, 'name': 'VISION_SCORE'}, {'value': 22791.37109375, 'name': 'TOTAL_DAMAGE_DEALT'}, {'value': 3607.02490234375, 'name': 'PHYSICAL_DAMAGE_DEALT_PLAYER'}, {'value': 14384.7470703125, 'name': 'MAGIC_DAMAGE_DEALT_PLAYER'}, {'value': 4799.59765625, 'name': 'TRUE_DAMAGE_DEALT_PLAYER'}, {'value': 6200.82958984375, 'name': 'TOTAL_DAMAGE_DEALT_TO_CHAMPIONS'}, {'value': 599.759765625, 'name': 'PHYSICAL_DAMAGE_DEALT_TO_CHAMPIONS'}, {'value': 5473.12548828125, 'name': 'MAGIC_DAMAGE_DEALT_TO_CHAMPIONS'}, {'value': 127.94446563720703, 'name': 'TRUE_DAMAGE_DEALT_TO_CHAMPIONS'}, {'value': 7987.58056640625, 'name': 'TOTAL_DAMAGE_TAKEN'}, {'value': 4361.11474609375, 'name': 'PHYSICAL_DAMAGE_TAKEN'}, {'value': 3404.554443359375, 'name': 'MAGIC_DAMAGE_TAKEN'}, {'value': 221.91201782226562, 'name': 'TRUE_DAMAGE_TAKEN'}, {'value': 3236.59326171875, 'name': 'TOTAL_DAMAGE_SELF_MITIGATED'}, {'value': 643.96923828125, 'name': 'TOTAL_DAMAGE_SHIELDED_ON_TEAMMATES'}, {'value': 1798.030517578125, 'name': 'TOTAL_DAMAGE_DEALT_TO_BUILDINGS'}, {'value': 1798.030517578125, 'name': 'TOTAL_DAMAGE_DEALT_TO_TURRETS'}, {'value': 2568.289306640625, 'name': 'TOTAL_DAMAGE_DEALT_TO_OBJECTIVES'}, {'value': 68.864990234375, 'name': 'TOTAL_TIME_CROWD_CONTROL_DEALT'}, {'value': 43.13079833984375, 'name': 'TOTAL_TIME_CROWD_CONTROL_DEALT_TO_CHAMPIONS'}, {'value': 1439.2601318359375, 'name': 'TOTAL_HEAL_ON_TEAMMATES'}, {'value': 14.431300163269043, 'name': 'TIME_CCING_OTHERS'}, {'value': 0, 'name': 'BASIC_PINGS'}, {'value': 17, 'name': 'COMMAND_PINGS'}, {'value': 0, 'name': 'DANGER_PINGS'}, {'value': 0, 'name': 'GET_BACK_PINGS'}, {'value': 0, 'name': 'RETREAT_PINGS'}, {'value': 29, 'name': 'ON_MY_WAY_PINGS'}, {'value': 0, 'name': 'ASSIST_ME_PINGS'}, {'value': 7, 'name': 'ENEMY_MISSING_PINGS'}, {'value': 0, 'name': 'PUSH_PINGS'}, {'value': 0, 'name': 'ALL_IN_PINGS'}, {'value': 0, 'name': 'HOLD_PINGS'}, {'value': 0, 'name': 'BAIT_PINGS'}, {'value': 0, 'name': 'VISION_CLEARED_PINGS'}, {'value': 2, 'name': 'ENEMY_VISION_PINGS'}, {'value': 0, 'name': 'NEED_VISION_PINGS'}], 'goldPerSecond': 30}, {'ability4CooldownRemaining': 52.4263916015625, 'magicPenetrationPercent': 0, 'alive': False, 'primaryAbilityResource': 728, 'spellVamp': 0, 'participantID': 6, 'lifeSteal': 0, 'primaryAbilityResourceRegen': 21, 'ability1CooldownRemaining': 0, 'XPForNextLevel': 13020, 'summonerSpell2CooldownRemaining': 52.5841064453125, 'healthMax': 2410, 'magicResist': 56, 'ability3CooldownRemaining': 0, 'ability3Level': 5, 'ability2CooldownRemaining': 0, 'summonerSpell1Name': 'SummonerHaste', 'teamID': 200, 'currentGold': 178, 'healthRegen': 42, 'ability4Level': 2, 'level': 14, 'ability1Level': 5, 'armorPenetration': 0, 'accountID': 3283660865283360, 'ability2Level': 2, 'health': 1, 'ultimateName': 'DariusExecute', 'summonerSpell2Name': 'SummonerFlash', 'cooldownReduction': 0, 'goldStats': {'assist': 25, 'killPalisade': 175, 'itemUndo': 425, 'starting': 500, 'itemSold': 60, 'killStructure': 900, 'killChampion': 300, 'killMinion': 4011, 'ambient': 2841, 'misc': 226}, 'magicPenetrationPercentBonus': 0, 'magicPenetration': 0, 'position': {'z': 12034, 'x': 11952}, 'primaryAbilityResourceMax': 964, 'armorPenetrationPercentBonus': 0, 'armorPenetrationPercent': 35, 'ability2Name': 'DariusNoxianTacticsONH', 'attackDamage': 262, 'ability3Name': 'DariusAxeGrabCone', 'championName': 'Darius', 'ccReduction': 25, 'shutdownValue': 0, 'playerName': 'ROTM Kookykrook', 'respawnTimer': 24.71905517578125, 'attackSpeed': 157, 'XP': 11615, 'ultimateCooldownRemaining': 52.4263916015625, 'armor': 172, 'summonerSpell1CooldownRemaining': 182.7474365234375, 'ability1Name': 'DariusCleave', 'totalGold': 8978, 'items': [{'itemID': 6333, 'itemCooldown': 0}, {'itemID': 1036, 'itemCooldown': 0}, {'itemID': 6631, 'itemCooldown': 0}, {'itemID': 1055, 'itemCooldown': 0}, {'itemID': 3047, 'itemCooldown': 0}, {'itemID': 3363, 'itemCooldown': 0}], 'abilityPower': 0, 'ability4Name': 'DariusExecute', 'stats': [{'value': 190, 'name': 'MINIONS_KILLED'}, {'value': 0, 'name': 'NEUTRAL_MINIONS_KILLED'}, {'value': 0, 'name': 'NEUTRAL_MINIONS_KILLED_YOUR_JUNGLE'}, {'value': 0, 'name': 'NEUTRAL_MINIONS_KILLED_ENEMY_JUNGLE'}, {'value': 1, 'name': 'CHAMPIONS_KILLED'}, {'value': 6, 'name': 'NUM_DEATHS'}, {'value': 0, 'name': 'ASSISTS'}, {'value': 8010, 'name': 'PERK0'}, {'value': 290.9723205566406, 'name': 'PERK0_VAR1'}, {'value': 0, 'name': 'PERK0_VAR2'}, {'value': 0, 'name': 'PERK0_VAR3'}, {'value': 9111, 'name': 'PERK1'}, {'value': 109.03823852539062, 'name': 'PERK1_VAR1'}, {'value': 20, 'name': 'PERK1_VAR2'}, {'value': 0, 'name': 'PERK1_VAR3'}, {'value': 9104, 'name': 'PERK2'}, {'value': 0, 'name': 'PERK2_VAR1'}, {'value': 0, 'name': 'PERK2_VAR2'}, {'value': 0, 'name': 'PERK2_VAR3'}, {'value': 8299, 'name': 'PERK3'}, {'value': 229.39491271972656, 'name': 'PERK3_VAR1'}, {'value': 0, 'name': 'PERK3_VAR2'}, {'value': 0, 'name': 'PERK3_VAR3'}, {'value': 8473, 'name': 'PERK4'}, {'value': 737.3670043945312, 'name': 'PERK4_VAR1'}, {'value': 0, 'name': 'PERK4_VAR2'}, {'value': 0, 'name': 'PERK4_VAR3'}, {'value': 8242, 'name': 'PERK5'}, {'value': 51, 'name': 'PERK5_VAR1'}, {'value': 0, 'name': 'PERK5_VAR2'}, {'value': 0, 'name': 'PERK5_VAR3'}, {'value': 9, 'name': 'WARD_PLACED'}, {'value': 2, 'name': 'WARD_KILLED'}, {'value': 17.035140991210938, 'name': 'VISION_SCORE'}, {'value': 107112.640625, 'name': 'TOTAL_DAMAGE_DEALT'}, {'value': 104264.6953125, 'name': 'PHYSICAL_DAMAGE_DEALT_PLAYER'}, {'value': 218.99545288085938, 'name': 'MAGIC_DAMAGE_DEALT_PLAYER'}, {'value': 2628.96484375, 'name': 'TRUE_DAMAGE_DEALT_PLAYER'}, {'value': 10447.82421875, 'name': 'TOTAL_DAMAGE_DEALT_TO_CHAMPIONS'}, {'value': 8597.3671875, 'name': 'PHYSICAL_DAMAGE_DEALT_TO_CHAMPIONS'}, {'value': 218.99545288085938, 'name': 'MAGIC_DAMAGE_DEALT_TO_CHAMPIONS'}, {'value': 1631.46484375, 'name': 'TRUE_DAMAGE_DEALT_TO_CHAMPIONS'}, {'value': 21855.8828125, 'name': 'TOTAL_DAMAGE_TAKEN'}, {'value': 15003.904296875, 'name': 'PHYSICAL_DAMAGE_TAKEN'}, {'value': 5609.26318359375, 'name': 'MAGIC_DAMAGE_TAKEN'}, {'value': 1242.7109375, 'name': 'TRUE_DAMAGE_TAKEN'}, {'value': 25677.8359375, 'name': 'TOTAL_DAMAGE_SELF_MITIGATED'}, {'value': 0, 'name': 'TOTAL_DAMAGE_SHIELDED_ON_TEAMMATES'}, {'value': 3834.446044921875, 'name': 'TOTAL_DAMAGE_DEALT_TO_BUILDINGS'}, {'value': 3834.446044921875, 'name': 'TOTAL_DAMAGE_DEALT_TO_TURRETS'}, {'value': 5834.8857421875, 'name': 'TOTAL_DAMAGE_DEALT_TO_OBJECTIVES'}, {'value': 125.95215606689453, 'name': 'TOTAL_TIME_CROWD_CONTROL_DEALT'}, {'value': 57.047157287597656, 'name': 'TOTAL_TIME_CROWD_CONTROL_DEALT_TO_CHAMPIONS'}, {'value': 0, 'name': 'TOTAL_HEAL_ON_TEAMMATES'}, {'value': 15.329920768737793, 'name': 'TIME_CCING_OTHERS'}, {'value': 0, 'name': 'BASIC_PINGS'}, {'value': 4, 'name': 'COMMAND_PINGS'}, {'value': 0, 'name': 'DANGER_PINGS'}, {'value': 1, 'name': 'GET_BACK_PINGS'}, {'value': 0, 'name': 'RETREAT_PINGS'}, {'value': 20, 'name': 'ON_MY_WAY_PINGS'}, {'value': 1, 'name': 'ASSIST_ME_PINGS'}, {'value': 8, 'name': 'ENEMY_MISSING_PINGS'}, {'value': 0, 'name': 'PUSH_PINGS'}, {'value': 0, 'name': 'ALL_IN_PINGS'}, {'value': 0, 'name': 'HOLD_PINGS'}, {'value': 0, 'name': 'BAIT_PINGS'}, {'value': 0, 'name': 'VISION_CLEARED_PINGS'}, {'value': 6, 'name': 'ENEMY_VISION_PINGS'}, {'value': 0, 'name': 'NEED_VISION_PINGS'}], 'goldPerSecond': 0}, {'ability4CooldownRemaining': 48.1177978515625, 'magicPenetrationPercent': 0, 'alive': True, 'primaryAbilityResource': 954, 'spellVamp': 0, 'participantID': 7, 'lifeSteal': 0, 'primaryAbilityResourceRegen': 75, 'ability1CooldownRemaining': 2.75244140625, 'XPForNextLevel': 8580, 'summonerSpell2CooldownRemaining': 205.117431640625, 'healthMax': 2062, 'magicResist': 49, 'ability3CooldownRemaining': 0, 'ability3Level': 5, 'ability2CooldownRemaining': 0.247802734375, 'summonerSpell1Name': 'SummonerSmiteAvatarUtility', 'teamID': 200, 'currentGold': 182, 'healthRegen': 86, 'ability4Level': 2, 'level': 11, 'ability1Level': 3, 'armorPenetration': 0, 'accountID': 3283661685441824, 'ability2Level': 1, 'health': 973, 'ultimateName': 'IvernR', 'summonerSpell2Name': 'SummonerFlash', 'cooldownReduction': 0, 'goldStats': {'assist': 377, 'starting': 500, 'misc': 274, 'killStructure': 100, 'killNeutralMinion': 2475, 'killChampion': 300, 'killMinion': 35, 'ambient': 2841, 'itemUndo': 800}, 'magicPenetrationPercentBonus': 0, 'magicPenetration': 0, 'position': {'z': 14270, 'x': 13611}, 'primaryAbilityResourceMax': 976, 'armorPenetrationPercentBonus': 0, 'armorPenetrationPercent': 0, 'ability2Name': 'IvernW', 'attackDamage': 76, 'ability3Name': 'IvernE', 'championName': 'Ivern', 'ccReduction': 0, 'shutdownValue': 0, 'playerName': 'ROTM Dragowski', 'respawnTimer': 0, 'attackSpeed': 129, 'XP': 7853, 'ultimateCooldownRemaining': 48.1177978515625, 'armor': 68, 'stackingBuffs': [{'stacks': 1200, 'id': 3805539831}, {'stacks': 3, 'id': 1476838120}], 'summonerSpell1CooldownRemaining': 0, 'ability1Name': 'IvernQ', 'totalGold': 7002, 'items': [{'itemID': 3107, 'itemCooldown': 48.9903564453125}, {'itemID': 6617, 'itemCooldown': 0}, {'itemID': 3158, 'itemCooldown': 0}, {'itemID': 2055, 'itemStacks': 1, 'itemCooldown': 0}, {'itemID': 1052, 'itemCooldown': 0}, {'itemID': 3364, 'itemStacks': 2, 'itemCooldown': 0}], 'abilityPower': 64, 'ability4Name': 'IvernR', 'stats': [{'value': 4, 'name': 'MINIONS_KILLED'}, {'value': 105.00001525878906, 'name': 'NEUTRAL_MINIONS_KILLED'}, {'value': 77.00001525878906, 'name': 'NEUTRAL_MINIONS_KILLED_YOUR_JUNGLE'}, {'value': 12.000000953674316, 'name': 'NEUTRAL_MINIONS_KILLED_ENEMY_JUNGLE'}, {'value': 1, 'name': 'CHAMPIONS_KILLED'}, {'value': 1, 'name': 'NUM_DEATHS'}, {'value': 3, 'name': 'ASSISTS'}, {'value': 8214, 'name': 'PERK0'}, {'value': 314.3807373046875, 'name': 'PERK0_VAR1'}, {'value': 451.689697265625, 'name': 'PERK0_VAR2'}, {'value': 0, 'name': 'PERK0_VAR3'}, {'value': 8275, 'name': 'PERK1'}, {'value': 17, 'name': 'PERK1_VAR1'}, {'value': 0, 'name': 'PERK1_VAR2'}, {'value': 0, 'name': 'PERK1_VAR3'}, {'value': 8210, 'name': 'PERK2'}, {'value': 0, 'name': 'PERK2_VAR1'}, {'value': 0, 'name': 'PERK2_VAR2'}, {'value': 0, 'name': 'PERK2_VAR3'}, {'value': 8232, 'name': 'PERK3'}, {'value': 2, 'name': 'PERK3_VAR1'}, {'value': 40, 'name': 'PERK3_VAR2'}, {'value': 0, 'name': 'PERK3_VAR3'}, {'value': 8321, 'name': 'PERK4'}, {'value': 2, 'name': 'PERK4_VAR1'}, {'value': 0, 'name': 'PERK4_VAR2'}, {'value': 0, 'name': 'PERK4_VAR3'}, {'value': 8347, 'name': 'PERK5'}, {'value': 0, 'name': 'PERK5_VAR1'}, {'value': 0, 'name': 'PERK5_VAR2'}, {'value': 0, 'name': 'PERK5_VAR3'}, {'value': 4, 'name': 'WARD_PLACED'}, {'value': 2, 'name': 'WARD_KILLED'}, {'value': 16.853687286376953, 'name': 'VISION_SCORE'}, {'value': 120559.09375, 'name': 'TOTAL_DAMAGE_DEALT'}, {'value': 2805.507080078125, 'name': 'PHYSICAL_DAMAGE_DEALT_PLAYER'}, {'value': 3781.2509765625, 'name': 'MAGIC_DAMAGE_DEALT_PLAYER'}, {'value': 113972.359375, 'name': 'TRUE_DAMAGE_DEALT_PLAYER'}, {'value': 5543.689453125, 'name': 'TOTAL_DAMAGE_DEALT_TO_CHAMPIONS'}, {'value': 2023.6595458984375, 'name': 'PHYSICAL_DAMAGE_DEALT_TO_CHAMPIONS'}, {'value': 2141.77294921875, 'name': 'MAGIC_DAMAGE_DEALT_TO_CHAMPIONS'}, {'value': 1378.257568359375, 'name': 'TRUE_DAMAGE_DEALT_TO_CHAMPIONS'}, {'value': 6642.98681640625, 'name': 'TOTAL_DAMAGE_TAKEN'}, {'value': 3903.6591796875, 'name': 'PHYSICAL_DAMAGE_TAKEN'}, {'value': 2560.974365234375, 'name': 'MAGIC_DAMAGE_TAKEN'}, {'value': 178.3529510498047, 'name': 'TRUE_DAMAGE_TAKEN'}, {'value': 4700.005859375, 'name': 'TOTAL_DAMAGE_SELF_MITIGATED'}, {'value': 6867.3623046875, 'name': 'TOTAL_DAMAGE_SHIELDED_ON_TEAMMATES'}, {'value': 0, 'name': 'TOTAL_DAMAGE_DEALT_TO_BUILDINGS'}, {'value': 0, 'name': 'TOTAL_DAMAGE_DEALT_TO_TURRETS'}, {'value': 1741.5931396484375, 'name': 'TOTAL_DAMAGE_DEALT_TO_OBJECTIVES'}, {'value': 87.10041046142578, 'name': 'TOTAL_TIME_CROWD_CONTROL_DEALT'}, {'value': 43.024810791015625, 'name': 'TOTAL_TIME_CROWD_CONTROL_DEALT_TO_CHAMPIONS'}, {'value': 240, 'name': 'TOTAL_HEAL_ON_TEAMMATES'}, {'value': 26.675189971923828, 'name': 'TIME_CCING_OTHERS'}, {'value': 0, 'name': 'BASIC_PINGS'}, {'value': 4, 'name': 'COMMAND_PINGS'}, {'value': 0, 'name': 'DANGER_PINGS'}, {'value': 1, 'name': 'GET_BACK_PINGS'}, {'value': 18, 'name': 'RETREAT_PINGS'}, {'value': 47, 'name': 'ON_MY_WAY_PINGS'}, {'value': 1, 'name': 'ASSIST_ME_PINGS'}, {'value': 3, 'name': 'ENEMY_MISSING_PINGS'}, {'value': 0, 'name': 'PUSH_PINGS'}, {'value': 1, 'name': 'ALL_IN_PINGS'}, {'value': 0, 'name': 'HOLD_PINGS'}, {'value': 0, 'name': 'BAIT_PINGS'}, {'value': 0, 'name': 'VISION_CLEARED_PINGS'}, {'value': 4, 'name': 'ENEMY_VISION_PINGS'}, {'value': 1, 'name': 'NEED_VISION_PINGS'}], 'goldPerSecond': 0}, {'ability4CooldownRemaining': 0, 'magicPenetrationPercent': 0, 'alive': False, 'primaryAbilityResource': 960, 'spellVamp': 0, 'participantID': 8, 'lifeSteal': 0, 'primaryAbilityResourceRegen': 40, 'ability1CooldownRemaining': 0, 'XPForNextLevel': 13020, 'summonerSpell2CooldownRemaining': 0, 'healthMax': 2239, 'magicResist': 45, 'ability3CooldownRemaining': 0, 'ability3Level': 2, 'ability2CooldownRemaining': 0, 'summonerSpell1Name': 'S12_SummonerTeleportUpgrade', 'teamID': 200, 'currentGold': 440, 'healthRegen': 28, 'ability4Level': 2, 'level': 14, 'ability1Level': 5, 'armorPenetration': 0, 'accountID': 3283662554793248, 'ability2Level': 5, 'health': 0, 'ultimateName': 'LeblancRE', 'summonerSpell2Name': 'SummonerFlash', 'cooldownReduction': 0, 'goldStats': {'assist': 120, 'killStructure': 100, 'ambient': 2841, 'killChampion': 874, 'killMinion': 4728, 'starting': 500, 'misc': 281}, 'magicPenetrationPercentBonus': 0, 'magicPenetration': 18, 'position': {'z': 12954, 'x': 12884}, 'primaryAbilityResourceMax': 1064, 'armorPenetrationPercentBonus': 0, 'armorPenetrationPercent': 0, 'ability2Name': 'LeblancW', 'attackDamage': 142, 'ability3Name': 'LeblancE', 'championName': 'Leblanc', 'ccReduction': 0, 'shutdownValue': 0, 'playerName': 'ROTM Max108', 'respawnTimer': 31.425464630126953, 'attackSpeed': 169, 'XP': 11630, 'ultimateCooldownRemaining': 0, 'armor': 84, 'summonerSpell1CooldownRemaining': 0, 'ability1Name': 'LeblancQ', 'totalGold': 9444, 'items': [{'itemID': 1058, 'itemCooldown': 0}, {'itemID': 2031, 'itemStacks': 1, 'itemCooldown': 0}, {'itemID': 1052, 'itemCooldown': 0}, {'itemID': 3020, 'itemCooldown': 0}, {'itemID': 4636, 'itemCooldown': 0}, {'itemID': 3087, 'itemCooldown': 0}, {'itemID': 3363, 'itemCooldown': 0}], 'abilityPower': 179, 'ability4Name': 'LeblancRE', 'stats': [{'value': 227, 'name': 'MINIONS_KILLED'}, {'value': 0, 'name': 'NEUTRAL_MINIONS_KILLED'}, {'value': 0, 'name': 'NEUTRAL_MINIONS_KILLED_YOUR_JUNGLE'}, {'value': 0, 'name': 'NEUTRAL_MINIONS_KILLED_ENEMY_JUNGLE'}, {'value': 3, 'name': 'CHAMPIONS_KILLED'}, {'value': 4, 'name': 'NUM_DEATHS'}, {'value': 1, 'name': 'ASSISTS'}, {'value': 8021, 'name': 'PERK0'}, {'value': 1620.2083740234375, 'name': 'PERK0_VAR1'}, {'value': 1325.1090087890625, 'name': 'PERK0_VAR2'}, {'value': 0, 'name': 'PERK0_VAR3'}, {'value': 8009, 'name': 'PERK1'}, {'value': 1064.8475341796875, 'name': 'PERK1_VAR1'}, {'value': 0, 'name': 'PERK1_VAR2'}, {'value': 0, 'name': 'PERK1_VAR3'}, {'value': 9104, 'name': 'PERK2'}, {'value': 16, 'name': 'PERK2_VAR1'}, {'value': 30, 'name': 'PERK2_VAR2'}, {'value': 0, 'name': 'PERK2_VAR3'}, {'value': 8014, 'name': 'PERK3'}, {'value': 191, 'name': 'PERK3_VAR1'}, {'value': 0, 'name': 'PERK3_VAR2'}, {'value': 0, 'name': 'PERK3_VAR3'}, {'value': 8316, 'name': 'PERK4'}, {'value': 4529.49267578125, 'name': 'PERK4_VAR1'}, {'value': 0, 'name': 'PERK4_VAR2'}, {'value': 0, 'name': 'PERK4_VAR3'}, {'value': 8304, 'name': 'PERK5'}, {'value': 9, 'name': 'PERK5_VAR1'}, {'value': 0, 'name': 'PERK5_VAR2'}, {'value': 0, 'name': 'PERK5_VAR3'}, {'value': 9, 'name': 'WARD_PLACED'}, {'value': 5, 'name': 'WARD_KILLED'}, {'value': 21.99816131591797, 'name': 'VISION_SCORE'}, {'value': 137675.203125, 'name': 'TOTAL_DAMAGE_DEALT'}, {'value': 33101.11328125, 'name': 'PHYSICAL_DAMAGE_DEALT_PLAYER'}, {'value': 103348.8515625, 'name': 'MAGIC_DAMAGE_DEALT_PLAYER'}, {'value': 1225.306396484375, 'name': 'TRUE_DAMAGE_DEALT_PLAYER'}, {'value': 17999.41015625, 'name': 'TOTAL_DAMAGE_DEALT_TO_CHAMPIONS'}, {'value': 5282.15576171875, 'name': 'PHYSICAL_DAMAGE_DEALT_TO_CHAMPIONS'}, {'value': 12601.2548828125, 'name': 'MAGIC_DAMAGE_DEALT_TO_CHAMPIONS'}, {'value': 116, 'name': 'TRUE_DAMAGE_DEALT_TO_CHAMPIONS'}, {'value': 19635.83203125, 'name': 'TOTAL_DAMAGE_TAKEN'}, {'value': 14868.4560546875, 'name': 'PHYSICAL_DAMAGE_TAKEN'}, {'value': 4595.37939453125, 'name': 'MAGIC_DAMAGE_TAKEN'}, {'value': 172, 'name': 'TRUE_DAMAGE_TAKEN'}, {'value': 12220.982421875, 'name': 'TOTAL_DAMAGE_SELF_MITIGATED'}, {'value': 0, 'name': 'TOTAL_DAMAGE_SHIELDED_ON_TEAMMATES'}, {'value': 0, 'name': 'TOTAL_DAMAGE_DEALT_TO_BUILDINGS'}, {'value': 0, 'name': 'TOTAL_DAMAGE_DEALT_TO_TURRETS'}, {'value': 0, 'name': 'TOTAL_DAMAGE_DEALT_TO_OBJECTIVES'}, {'value': 63.995880126953125, 'name': 'TOTAL_TIME_CROWD_CONTROL_DEALT'}, {'value': 24.111907958984375, 'name': 'TOTAL_TIME_CROWD_CONTROL_DEALT_TO_CHAMPIONS'}, {'value': 0, 'name': 'TOTAL_HEAL_ON_TEAMMATES'}, {'value': 13.766524314880371, 'name': 'TIME_CCING_OTHERS'}, {'value': 0, 'name': 'BASIC_PINGS'}, {'value': 13, 'name': 'COMMAND_PINGS'}, {'value': 0, 'name': 'DANGER_PINGS'}, {'value': 3, 'name': 'GET_BACK_PINGS'}, {'value': 0, 'name': 'RETREAT_PINGS'}, {'value': 9, 'name': 'ON_MY_WAY_PINGS'}, {'value': 0, 'name': 'ASSIST_ME_PINGS'}, {'value': 4, 'name': 'ENEMY_MISSING_PINGS'}, {'value': 0, 'name': 'PUSH_PINGS'}, {'value': 0, 'name': 'ALL_IN_PINGS'}, {'value': 0, 'name': 'HOLD_PINGS'}, {'value': 0, 'name': 'BAIT_PINGS'}, {'value': 0, 'name': 'VISION_CLEARED_PINGS'}, {'value': 0, 'name': 'ENEMY_VISION_PINGS'}, {'value': 0, 'name': 'NEED_VISION_PINGS'}], 'goldPerSecond': 0}, {'ability4CooldownRemaining': 0, 'magicPenetrationPercent': 0, 'alive': False, 'primaryAbilityResource': 624, 'spellVamp': 0, 'participantID': 9, 'lifeSteal': 10, 'primaryAbilityResourceRegen': 20, 'ability1CooldownRemaining': 0, 'XPForNextLevel': 9960, 'summonerSpell2CooldownRemaining': 0, 'healthMax': 1584, 'magicResist': 42, 'ability3CooldownRemaining': 0, 'ability3Level': 6, 'ability2CooldownRemaining': 0, 'summonerSpell1Name': 'SummonerHeal', 'teamID': 200, 'currentGold': 773, 'healthRegen': 17, 'ability4Level': 2, 'level': 12, 'ability1Level': 6, 'armorPenetration': 0, 'accountID': 3283663120377120, 'ability2Level': 1, 'health': 25, 'ultimateName': 'ApheliosR', 'summonerSpell2Name': 'SummonerFlash', 'cooldownReduction': 0, 'goldStats': {'assist': 5, 'killPalisade': 350, 'shutdownReward': 500, 'starting': 500, 'killNeutralMinion': 155, 'itemSold': 180, 'killStructure': 100, 'killChampion': 600, 'killMinion': 4391, 'ambient': 2841, 'misc': 666}, 'magicPenetrationPercentBonus': 0, 'magicPenetration': 0, 'position': {'z': 11462, 'x': 13007}, 'primaryAbilityResourceMax': 761, 'armorPenetrationPercentBonus': 0, 'armorPenetrationPercent': 0, 'ability2Name': 'ApheliosW', 'attackDamage': 241, 'ability3Name': 'ApheliosE', 'championName': 'Aphelios', 'ccReduction': 0, 'shutdownValue': 0, 'playerName': 'ROTM Puppeh', 'respawnTimer': 8.20184326171875, 'attackSpeed': 210, 'XP': 9135, 'ultimateCooldownRemaining': 0, 'armor': 73, 'stackingBuffs': [{'stacks': 45, 'id': 476668509}, {'stacks': 14, 'id': 3018662738}], 'summonerSpell1CooldownRemaining': 0, 'ability1Name': 'ApheliosInfernumQ', 'totalGold': 10108, 'items': [{'itemID': 1053, 'itemCooldown': 0}, {'itemID': 6672, 'itemCooldown': 0}, {'itemID': 3006, 'itemCooldown': 0}, {'itemID': 1018, 'itemCooldown': 0}, {'itemID': 6671, 'itemCooldown': 0}, {'itemID': 3363, 'itemCooldown': 0}], 'abilityPower': 0, 'ability4Name': 'ApheliosR', 'stats': [{'value': 197, 'name': 'MINIONS_KILLED'}, {'value': 8, 'name': 'NEUTRAL_MINIONS_KILLED'}, {'value': 8, 'name': 'NEUTRAL_MINIONS_KILLED_YOUR_JUNGLE'}, {'value': 0, 'name': 'NEUTRAL_MINIONS_KILLED_ENEMY_JUNGLE'}, {'value': 2, 'name': 'CHAMPIONS_KILLED'}, {'value': 4, 'name': 'NUM_DEATHS'}, {'value': 0, 'name': 'ASSISTS'}, {'value': 8021, 'name': 'PERK0'}, {'value': 1259.2474365234375, 'name': 'PERK0_VAR1'}, {'value': 1076.4805908203125, 'name': 'PERK0_VAR2'}, {'value': 0, 'name': 'PERK0_VAR3'}, {'value': 9101, 'name': 'PERK1'}, {'value': 1859.829833984375, 'name': 'PERK1_VAR1'}, {'value': 1711.0882568359375, 'name': 'PERK1_VAR2'}, {'value': 0, 'name': 'PERK1_VAR3'}, {'value': 9103, 'name': 'PERK2'}, {'value': 0, 'name': 'PERK2_VAR1'}, {'value': 0, 'name': 'PERK2_VAR2'}, {'value': 0, 'name': 'PERK2_VAR3'}, {'value': 8017, 'name': 'PERK3'}, {'value': 1294.7698974609375, 'name': 'PERK3_VAR1'}, {'value': 0, 'name': 'PERK3_VAR2'}, {'value': 0, 'name': 'PERK3_VAR3'}, {'value': 8233, 'name': 'PERK4'}, {'value': 15, 'name': 'PERK4_VAR1'}, {'value': 50, 'name': 'PERK4_VAR2'}, {'value': 0, 'name': 'PERK4_VAR3'}, {'value': 8236, 'name': 'PERK5'}, {'value': 14.40000057220459, 'name': 'PERK5_VAR1'}, {'value': 0, 'name': 'PERK5_VAR2'}, {'value': 0, 'name': 'PERK5_VAR3'}, {'value': 6, 'name': 'WARD_PLACED'}, {'value': 3, 'name': 'WARD_KILLED'}, {'value': 13.352242469787598, 'name': 'VISION_SCORE'}, {'value': 128986.2890625, 'name': 'TOTAL_DAMAGE_DEALT'}, {'value': 111209.734375, 'name': 'PHYSICAL_DAMAGE_DEALT_PLAYER'}, {'value': 2776.56640625, 'name': 'MAGIC_DAMAGE_DEALT_PLAYER'}, {'value': 15000, 'name': 'TRUE_DAMAGE_DEALT_PLAYER'}, {'value': 15108.28125, 'name': 'TOTAL_DAMAGE_DEALT_TO_CHAMPIONS'}, {'value': 14420.9775390625, 'name': 'PHYSICAL_DAMAGE_DEALT_TO_CHAMPIONS'}, {'value': 687.3030395507812, 'name': 'MAGIC_DAMAGE_DEALT_TO_CHAMPIONS'}, {'value': 0, 'name': 'TRUE_DAMAGE_DEALT_TO_CHAMPIONS'}, {'value': 12588.5537109375, 'name': 'TOTAL_DAMAGE_TAKEN'}, {'value': 7542.9873046875, 'name': 'PHYSICAL_DAMAGE_TAKEN'}, {'value': 4994.90380859375, 'name': 'MAGIC_DAMAGE_TAKEN'}, {'value': 50.666664123535156, 'name': 'TRUE_DAMAGE_TAKEN'}, {'value': 9689.9912109375, 'name': 'TOTAL_DAMAGE_SELF_MITIGATED'}, {'value': 0, 'name': 'TOTAL_DAMAGE_SHIELDED_ON_TEAMMATES'}, {'value': 815.0761108398438, 'name': 'TOTAL_DAMAGE_DEALT_TO_BUILDINGS'}, {'value': 815.0761108398438, 'name': 'TOTAL_DAMAGE_DEALT_TO_TURRETS'}, {'value': 1293.170654296875, 'name': 'TOTAL_DAMAGE_DEALT_TO_OBJECTIVES'}, {'value': 72.73690795898438, 'name': 'TOTAL_TIME_CROWD_CONTROL_DEALT'}, {'value': 27.44110107421875, 'name': 'TOTAL_TIME_CROWD_CONTROL_DEALT_TO_CHAMPIONS'}, {'value': 0, 'name': 'TOTAL_HEAL_ON_TEAMMATES'}, {'value': 10.093390464782715, 'name': 'TIME_CCING_OTHERS'}, {'value': 0, 'name': 'BASIC_PINGS'}, {'value': 9, 'name': 'COMMAND_PINGS'}, {'value': 0, 'name': 'DANGER_PINGS'}, {'value': 1, 'name': 'GET_BACK_PINGS'}, {'value': 2, 'name': 'RETREAT_PINGS'}, {'value': 7, 'name': 'ON_MY_WAY_PINGS'}, {'value': 0, 'name': 'ASSIST_ME_PINGS'}, {'value': 0, 'name': 'ENEMY_MISSING_PINGS'}, {'value': 0, 'name': 'PUSH_PINGS'}, {'value': 0, 'name': 'ALL_IN_PINGS'}, {'value': 0, 'name': 'HOLD_PINGS'}, {'value': 0, 'name': 'BAIT_PINGS'}, {'value': 0, 'name': 'VISION_CLEARED_PINGS'}, {'value': 0, 'name': 'ENEMY_VISION_PINGS'}, {'value': 0, 'name': 'NEED_VISION_PINGS'}], 'goldPerSecond': 0}, {'ability4CooldownRemaining': 0, 'magicPenetrationPercent': 0, 'alive': False, 'primaryAbilityResource': 434, 'spellVamp': 0, 'participantID': 10, 'lifeSteal': 0, 'primaryAbilityResourceRegen': 17, 'ability1CooldownRemaining': 0, 'XPForNextLevel': 7300, 'summonerSpell2CooldownRemaining': 106.768798828125, 'healthMax': 2214, 'magicResist': 87, 'ability3CooldownRemaining': 0, 'ability3Level': 3, 'ability2CooldownRemaining': 0, 'summonerSpell1Name': 'SummonerFlashPerksHextechFlashtraptionV2', 'teamID': 200, 'currentGold': 375, 'healthRegen': 84, 'ability4Level': 1, 'level': 10, 'ability1Level': 1, 'armorPenetration': 0, 'accountID': 3283663848891680, 'ability2Level': 5, 'health': 0, 'ultimateName': 'RellR', 'summonerSpell2Name': 'SummonerDot', 'cooldownReduction': 0, 'goldStats': {'assist': 490, 'killStructure': 100, 'ambient': 3209, 'itemSold': 50, 'killMinion': 343, 'supportItem': 867, 'starting': 500, 'misc': 311}, 'magicPenetrationPercentBonus': 0, 'magicPenetration': 0, 'position': {'z': 13116, 'x': 12888}, 'primaryAbilityResourceMax': 698, 'armorPenetrationPercentBonus': 0, 'armorPenetrationPercent': 0, 'ability2Name': 'RellW_MountUp', 'attackDamage': 78, 'ability3Name': 'RellE', 'championName': 'Rell', 'ccReduction': 25, 'shutdownValue': 0, 'playerName': 'ROTM Boy Wonder', 'respawnTimer': 10.776172637939453, 'attackSpeed': 111, 'XP': 7062, 'ultimateCooldownRemaining': 0, 'armor': 112, 'summonerSpell1CooldownRemaining': 0, 'ability1Name': 'RellQ', 'totalGold': 5820, 'items': [{'itemID': 2055, 'itemStacks': 2, 'itemCooldown': 0}, {'itemID': 3001, 'itemCooldown': 0}, {'itemID': 3801, 'itemCooldown': 0}, {'itemID': 3860, 'itemStacks': 4, 'itemCooldown': 0}, {'itemID': 1028, 'itemCooldown': 0}, {'itemID': 3158, 'itemCooldown': 0}, {'itemID': 3364, 'itemStacks': 1, 'itemCooldown': 0}], 'abilityPower': 20, 'ability4Name': 'RellR', 'stats': [{'value': 41, 'name': 'MINIONS_KILLED'}, {'value': 0, 'name': 'NEUTRAL_MINIONS_KILLED'}, {'value': 0, 'name': 'NEUTRAL_MINIONS_KILLED_YOUR_JUNGLE'}, {'value': 0, 'name': 'NEUTRAL_MINIONS_KILLED_ENEMY_JUNGLE'}, {'value': 0, 'name': 'CHAMPIONS_KILLED'}, {'value': 7, 'name': 'NUM_DEATHS'}, {'value': 4, 'name': 'ASSISTS'}, {'value': 8351, 'name': 'PERK0'}, {'value': 49, 'name': 'PERK0_VAR1'}, {'value': 857, 'name': 'PERK0_VAR2'}, {'value': 0, 'name': 'PERK0_VAR3'}, {'value': 8306, 'name': 'PERK1'}, {'value': 1, 'name': 'PERK1_VAR1'}, {'value': 0, 'name': 'PERK1_VAR2'}, {'value': 0, 'name': 'PERK1_VAR3'}, {'value': 8316, 'name': 'PERK2'}, {'value': 413.4273376464844, 'name': 'PERK2_VAR1'}, {'value': 0, 'name': 'PERK2_VAR2'}, {'value': 0, 'name': 'PERK2_VAR3'}, {'value': 8347, 'name': 'PERK3'}, {'value': 0, 'name': 'PERK3_VAR1'}, {'value': 0, 'name': 'PERK3_VAR2'}, {'value': 0, 'name': 'PERK3_VAR3'}, {'value': 8473, 'name': 'PERK4'}, {'value': 351.7705383300781, 'name': 'PERK4_VAR1'}, {'value': 0, 'name': 'PERK4_VAR2'}, {'value': 0, 'name': 'PERK4_VAR3'}, {'value': 8242, 'name': 'PERK5'}, {'value': 64.75, 'name': 'PERK5_VAR1'}, {'value': 0, 'name': 'PERK5_VAR2'}, {'value': 0, 'name': 'PERK5_VAR3'}, {'value': 22, 'name': 'WARD_PLACED'}, {'value': 5, 'name': 'WARD_KILLED'}, {'value': 48.788063049316406, 'name': 'VISION_SCORE'}, {'value': 26875.544921875, 'name': 'TOTAL_DAMAGE_DEALT'}, {'value': 4408.63671875, 'name': 'PHYSICAL_DAMAGE_DEALT_PLAYER'}, {'value': 13414.029296875, 'name': 'MAGIC_DAMAGE_DEALT_PLAYER'}, {'value': 9052.89453125, 'name': 'TRUE_DAMAGE_DEALT_PLAYER'}, {'value': 2762.61962890625, 'name': 'TOTAL_DAMAGE_DEALT_TO_CHAMPIONS'}, {'value': 649.922607421875, 'name': 'PHYSICAL_DAMAGE_DEALT_TO_CHAMPIONS'}, {'value': 1644.6964111328125, 'name': 'MAGIC_DAMAGE_DEALT_TO_CHAMPIONS'}, {'value': 468, 'name': 'TRUE_DAMAGE_DEALT_TO_CHAMPIONS'}, {'value': 12969.580078125, 'name': 'TOTAL_DAMAGE_TAKEN'}, {'value': 10230.37890625, 'name': 'PHYSICAL_DAMAGE_TAKEN'}, {'value': 2587.082763671875, 'name': 'MAGIC_DAMAGE_TAKEN'}, {'value': 152.11485290527344, 'name': 'TRUE_DAMAGE_TAKEN'}, {'value': 19943.939453125, 'name': 'TOTAL_DAMAGE_SELF_MITIGATED'}, {'value': 0, 'name': 'TOTAL_DAMAGE_SHIELDED_ON_TEAMMATES'}, {'value': 0, 'name': 'TOTAL_DAMAGE_DEALT_TO_BUILDINGS'}, {'value': 0, 'name': 'TOTAL_DAMAGE_DEALT_TO_TURRETS'}, {'value': 325.0124816894531, 'name': 'TOTAL_DAMAGE_DEALT_TO_OBJECTIVES'}, {'value': 175.428466796875, 'name': 'TOTAL_TIME_CROWD_CONTROL_DEALT'}, {'value': 67.1319580078125, 'name': 'TOTAL_TIME_CROWD_CONTROL_DEALT_TO_CHAMPIONS'}, {'value': 0, 'name': 'TOTAL_HEAL_ON_TEAMMATES'}, {'value': 22.715553283691406, 'name': 'TIME_CCING_OTHERS'}, {'value': 0, 'name': 'BASIC_PINGS'}, {'value': 14, 'name': 'COMMAND_PINGS'}, {'value': 0, 'name': 'DANGER_PINGS'}, {'value': 0, 'name': 'GET_BACK_PINGS'}, {'value': 0, 'name': 'RETREAT_PINGS'}, {'value': 1, 'name': 'ON_MY_WAY_PINGS'}, {'value': 0, 'name': 'ASSIST_ME_PINGS'}, {'value': 0, 'name': 'ENEMY_MISSING_PINGS'}, {'value': 0, 'name': 'PUSH_PINGS'}, {'value': 0, 'name': 'ALL_IN_PINGS'}, {'value': 0, 'name': 'HOLD_PINGS'}, {'value': 0, 'name': 'BAIT_PINGS'}, {'value': 0, 'name': 'VISION_CLEARED_PINGS'}, {'value': 0, 'name': 'ENEMY_VISION_PINGS'}, {'value': 0, 'name': 'NEED_VISION_PINGS'}], 'goldPerSecond': 30}], 'gameName': '110733838936381392|game1', 'sequenceIndex': 5248, 'teams': [{'inhibKills': 1, 'towerKills': 10, 'teamID': 100, 'baronKills': 1, 'assists': 50, 'dragonKills': 2, 'championsKills': 22, 'totalGold': 53655, 'deaths': 7}, {'inhibKills': 0, 'towerKills': 1, 'teamID': 200, 'baronKills': 0, 'assists': 8, 'dragonKills': 0, 'championsKills': 7, 'totalGold': 41352, 'deaths': 22}], 'gameOver': True, 'playbackID': 1}\n"
     ]
    }
   ],
   "source": [
    "print(game_data[-2])"
   ]
  },
  {
   "cell_type": "code",
   "execution_count": 44,
   "metadata": {},
   "outputs": [],
   "source": [
    "test = [{'team': {'id': '110733889090164854', 'name': 'Return of the Middlesticks', 'side': 'red', 'result': 'loss'}, 'players': {'10': {'id': '110734399542284248', 'champion': 'Rell', 'summonerName': 'ROTM Boy Wonder', 'role': 'support'}, '9': {'id': '110734393683634460', 'champion': 'Aphelios', 'summonerName': 'ROTM Puppeh', 'role': 'bottom'}, '7': {'id': '110734382304225523', 'champion': 'Ivern', 'summonerName': 'ROTM Dragowski', 'role': 'jungle'}, '8': {'id': '110734389154290474', 'champion': 'Leblanc', 'summonerName': 'ROTM Max108', 'role': 'mid'}, '6': {'id': '110734375638473497', 'champion': 'Darius', 'summonerName': 'ROTM Kookykrook', 'role': 'top'}}}, [[6, 14, 0, 8978, 190, 0, 0, 0, 1, 6, 0, 9, 2, 17.035140991210938, 107112.640625, 10447.82421875, 21855.8828125, 25677.8359375, 0, 3834.446044921875, 3834.446044921875, 5834.8857421875, 57.047157287597656, 0], [7, 11, 0, 7002, 4, 105.00001525878906, 77.00001525878906, 12.000000953674316, 1, 1, 3, 4, 2, 16.853687286376953, 120559.09375, 5543.689453125, 6642.98681640625, 4700.005859375, 6867.3623046875, 0, 0, 1741.5931396484375, 43.024810791015625, 240], [8, 14, 0, 9444, 227, 0, 0, 0, 3, 4, 1, 9, 5, 21.99816131591797, 137675.203125, 17999.41015625, 19635.83203125, 12220.982421875, 0, 0, 0, 0, 24.111907958984375, 0], [9, 12, 0, 10108, 197, 8, 8, 0, 2, 4, 0, 6, 3, 13.352242469787598, 128986.2890625, 15108.28125, 12588.5537109375, 9689.9912109375, 0, 815.0761108398438, 815.0761108398438, 1293.170654296875, 27.44110107421875, 0], [10, 10, 0, 5820, 41, 0, 0, 0, 0, 7, 4, 22, 5, 48.788063049316406, 26875.544921875, 2762.61962890625, 12969.580078125, 19943.939453125, 0, 0, 0, 325.0124816894531, 67.1319580078125, 0]]]"
   ]
  },
  {
   "cell_type": "code",
   "execution_count": 48,
   "metadata": {},
   "outputs": [],
   "source": [
    "import pandas as pd\n",
    "\n",
    "def testing(features):\n",
    "    # features 0 is metadata, features 1 is vectors\n",
    "\n",
    "    column_names =   [\"participantID\", \"level\", \"shutdownValue\", \"totalGold\", \"MINIONS_KILLED\", \"NEUTRAL_MINIONS_KILLED\", \n",
    "                      \"NEUTRAL_MINIONS_KILLED_YOUR_JUNGLE\", \"NEUTRAL_MINIONS_KILLED_ENEMY_JUNGLE\", \n",
    "                      \"CHAMPIONS_KILLED\", \"NUM_DEATHS\", \"ASSISTS\", \"WARD_PLACED\", \"WARD_KILLED\", \"VISION_SCORE\", \"TOTAL_DAMAGE_DEALT\",\n",
    "                      \"TOTAL_DAMAGE_DEALT_TO_CHAMPIONS\", \"TOTAL_DAMAGE_TAKEN\", \"TOTAL_DAMAGE_SELF_MITIGATED\", \"TOTAL_DAMAGE_SHIELDED_ON_TEAMMATES\", \n",
    "                      \"TOTAL_DAMAGE_DEALT_TO_BUILDINGS\", \"TOTAL_DAMAGE_DEALT_TO_TURRETS\", \"TOTAL_DAMAGE_DEALT_TO_OBJECTIVES\", \n",
    "                      \"TOTAL_TIME_CROWD_CONTROL_DEALT_TO_CHAMPIONS\", \"TOTAL_HEAL_ON_TEAMMATES\", \"RESULT\"]\n",
    "\n",
    "    df = pd.DataFrame(columns=column_names)\n",
    "\n",
    "    feature_vectors = features[1]\n",
    "\n",
    "    match_result = features[0][\"team\"][\"result\"]\n",
    "\n",
    "    if match_result == \"loss\":\n",
    "        match_result = 0\n",
    "    else:\n",
    "        match_result = 1\n",
    "\n",
    "\n",
    "    for feature_vector in feature_vectors:\n",
    "        feature_vector.append(match_result)\n",
    "        print(len(feature_vector))\n",
    "        df.loc[len(df)] = feature_vector\n",
    "\n",
    "    return df\n",
    "\n",
    "\n",
    "\n",
    "\n"
   ]
  },
  {
   "cell_type": "code",
   "execution_count": 4,
   "metadata": {},
   "outputs": [
    {
     "name": "stdout",
     "output_type": "stream",
     "text": [
      "Games loaded: 1\n",
      "Games loaded: 2\n",
      "Games loaded: 3\n",
      "Games loaded: 4\n",
      "Games loaded: 5\n"
     ]
    }
   ],
   "source": [
    "from training_functions import train_model\n",
    "\n",
    "df = train_model([\"110733838935136200\"], False, True)"
   ]
  },
  {
   "cell_type": "code",
   "execution_count": 3,
   "metadata": {},
   "outputs": [
    {
     "data": {
      "text/html": [
       "<div>\n",
       "<style scoped>\n",
       "    .dataframe tbody tr th:only-of-type {\n",
       "        vertical-align: middle;\n",
       "    }\n",
       "\n",
       "    .dataframe tbody tr th {\n",
       "        vertical-align: top;\n",
       "    }\n",
       "\n",
       "    .dataframe thead th {\n",
       "        text-align: right;\n",
       "    }\n",
       "</style>\n",
       "<table border=\"1\" class=\"dataframe\">\n",
       "  <thead>\n",
       "    <tr style=\"text-align: right;\">\n",
       "      <th></th>\n",
       "      <th>participantID</th>\n",
       "      <th>level</th>\n",
       "      <th>shutdownValue</th>\n",
       "      <th>totalGold</th>\n",
       "      <th>MINIONS_KILLED</th>\n",
       "      <th>NEUTRAL_MINIONS_KILLED</th>\n",
       "      <th>NEUTRAL_MINIONS_KILLED_YOUR_JUNGLE</th>\n",
       "      <th>NEUTRAL_MINIONS_KILLED_ENEMY_JUNGLE</th>\n",
       "      <th>CHAMPIONS_KILLED</th>\n",
       "      <th>NUM_DEATHS</th>\n",
       "      <th>ASSISTS</th>\n",
       "      <th>WARD_PLACED</th>\n",
       "      <th>WARD_KILLED</th>\n",
       "      <th>VISION_SCORE</th>\n",
       "      <th>TOTAL_DAMAGE_DEALT</th>\n",
       "      <th>TOTAL_DAMAGE_DEALT_TO_CHAMPIONS</th>\n",
       "      <th>TOTAL_DAMAGE_TAKEN</th>\n",
       "      <th>TOTAL_DAMAGE_SELF_MITIGATED</th>\n",
       "      <th>TOTAL_DAMAGE_SHIELDED_ON_TEAMMATES</th>\n",
       "      <th>TOTAL_DAMAGE_DEALT_TO_BUILDINGS</th>\n",
       "      <th>TOTAL_DAMAGE_DEALT_TO_TURRETS</th>\n",
       "      <th>TOTAL_DAMAGE_DEALT_TO_OBJECTIVES</th>\n",
       "      <th>TOTAL_TIME_CROWD_CONTROL_DEALT_TO_CHAMPIONS</th>\n",
       "      <th>TOTAL_HEAL_ON_TEAMMATES</th>\n",
       "      <th>RESULT</th>\n",
       "    </tr>\n",
       "  </thead>\n",
       "  <tbody>\n",
       "    <tr>\n",
       "      <th>0</th>\n",
       "      <td>6.0</td>\n",
       "      <td>14.0</td>\n",
       "      <td>0.0</td>\n",
       "      <td>8978.0</td>\n",
       "      <td>190.0</td>\n",
       "      <td>0.000000</td>\n",
       "      <td>0.000000</td>\n",
       "      <td>0.000000</td>\n",
       "      <td>1.0</td>\n",
       "      <td>6.0</td>\n",
       "      <td>0.0</td>\n",
       "      <td>9.0</td>\n",
       "      <td>2.0</td>\n",
       "      <td>17.035141</td>\n",
       "      <td>107112.640625</td>\n",
       "      <td>10447.824219</td>\n",
       "      <td>21855.882812</td>\n",
       "      <td>25677.835938</td>\n",
       "      <td>0.000000</td>\n",
       "      <td>3834.446045</td>\n",
       "      <td>3834.446045</td>\n",
       "      <td>5834.885742</td>\n",
       "      <td>57.047157</td>\n",
       "      <td>0.0</td>\n",
       "      <td>0.0</td>\n",
       "    </tr>\n",
       "    <tr>\n",
       "      <th>1</th>\n",
       "      <td>7.0</td>\n",
       "      <td>11.0</td>\n",
       "      <td>0.0</td>\n",
       "      <td>7002.0</td>\n",
       "      <td>4.0</td>\n",
       "      <td>105.000015</td>\n",
       "      <td>77.000015</td>\n",
       "      <td>12.000001</td>\n",
       "      <td>1.0</td>\n",
       "      <td>1.0</td>\n",
       "      <td>3.0</td>\n",
       "      <td>4.0</td>\n",
       "      <td>2.0</td>\n",
       "      <td>16.853687</td>\n",
       "      <td>120559.093750</td>\n",
       "      <td>5543.689453</td>\n",
       "      <td>6642.986816</td>\n",
       "      <td>4700.005859</td>\n",
       "      <td>6867.362305</td>\n",
       "      <td>0.000000</td>\n",
       "      <td>0.000000</td>\n",
       "      <td>1741.593140</td>\n",
       "      <td>43.024811</td>\n",
       "      <td>240.0</td>\n",
       "      <td>0.0</td>\n",
       "    </tr>\n",
       "    <tr>\n",
       "      <th>2</th>\n",
       "      <td>8.0</td>\n",
       "      <td>14.0</td>\n",
       "      <td>0.0</td>\n",
       "      <td>9444.0</td>\n",
       "      <td>227.0</td>\n",
       "      <td>0.000000</td>\n",
       "      <td>0.000000</td>\n",
       "      <td>0.000000</td>\n",
       "      <td>3.0</td>\n",
       "      <td>4.0</td>\n",
       "      <td>1.0</td>\n",
       "      <td>9.0</td>\n",
       "      <td>5.0</td>\n",
       "      <td>21.998161</td>\n",
       "      <td>137675.203125</td>\n",
       "      <td>17999.410156</td>\n",
       "      <td>19635.832031</td>\n",
       "      <td>12220.982422</td>\n",
       "      <td>0.000000</td>\n",
       "      <td>0.000000</td>\n",
       "      <td>0.000000</td>\n",
       "      <td>0.000000</td>\n",
       "      <td>24.111908</td>\n",
       "      <td>0.0</td>\n",
       "      <td>0.0</td>\n",
       "    </tr>\n",
       "    <tr>\n",
       "      <th>3</th>\n",
       "      <td>9.0</td>\n",
       "      <td>12.0</td>\n",
       "      <td>0.0</td>\n",
       "      <td>10108.0</td>\n",
       "      <td>197.0</td>\n",
       "      <td>8.000000</td>\n",
       "      <td>8.000000</td>\n",
       "      <td>0.000000</td>\n",
       "      <td>2.0</td>\n",
       "      <td>4.0</td>\n",
       "      <td>0.0</td>\n",
       "      <td>6.0</td>\n",
       "      <td>3.0</td>\n",
       "      <td>13.352242</td>\n",
       "      <td>128986.289062</td>\n",
       "      <td>15108.281250</td>\n",
       "      <td>12588.553711</td>\n",
       "      <td>9689.991211</td>\n",
       "      <td>0.000000</td>\n",
       "      <td>815.076111</td>\n",
       "      <td>815.076111</td>\n",
       "      <td>1293.170654</td>\n",
       "      <td>27.441101</td>\n",
       "      <td>0.0</td>\n",
       "      <td>0.0</td>\n",
       "    </tr>\n",
       "    <tr>\n",
       "      <th>4</th>\n",
       "      <td>10.0</td>\n",
       "      <td>10.0</td>\n",
       "      <td>0.0</td>\n",
       "      <td>5820.0</td>\n",
       "      <td>41.0</td>\n",
       "      <td>0.000000</td>\n",
       "      <td>0.000000</td>\n",
       "      <td>0.000000</td>\n",
       "      <td>0.0</td>\n",
       "      <td>7.0</td>\n",
       "      <td>4.0</td>\n",
       "      <td>22.0</td>\n",
       "      <td>5.0</td>\n",
       "      <td>48.788063</td>\n",
       "      <td>26875.544922</td>\n",
       "      <td>2762.619629</td>\n",
       "      <td>12969.580078</td>\n",
       "      <td>19943.939453</td>\n",
       "      <td>0.000000</td>\n",
       "      <td>0.000000</td>\n",
       "      <td>0.000000</td>\n",
       "      <td>325.012482</td>\n",
       "      <td>67.131958</td>\n",
       "      <td>0.0</td>\n",
       "      <td>0.0</td>\n",
       "    </tr>\n",
       "  </tbody>\n",
       "</table>\n",
       "</div>"
      ],
      "text/plain": [
       "   participantID  level  ...  TOTAL_HEAL_ON_TEAMMATES  RESULT\n",
       "0            6.0   14.0  ...                      0.0     0.0\n",
       "1            7.0   11.0  ...                    240.0     0.0\n",
       "2            8.0   14.0  ...                      0.0     0.0\n",
       "3            9.0   12.0  ...                      0.0     0.0\n",
       "4           10.0   10.0  ...                      0.0     0.0\n",
       "\n",
       "[5 rows x 25 columns]"
      ]
     },
     "execution_count": 3,
     "metadata": {},
     "output_type": "execute_result"
    }
   ],
   "source": [
    "df"
   ]
  },
  {
   "cell_type": "code",
   "execution_count": null,
   "metadata": {},
   "outputs": [],
   "source": []
  }
 ],
 "metadata": {
  "kernelspec": {
   "display_name": "base",
   "language": "python",
   "name": "python3"
  },
  "language_info": {
   "codemirror_mode": {
    "name": "ipython",
    "version": 3
   },
   "file_extension": ".py",
   "mimetype": "text/x-python",
   "name": "python",
   "nbconvert_exporter": "python",
   "pygments_lexer": "ipython3",
   "version": "3.9.12"
  },
  "orig_nbformat": 4
 },
 "nbformat": 4,
 "nbformat_minor": 2
}
